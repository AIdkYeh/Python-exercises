{
  "nbformat": 4,
  "nbformat_minor": 0,
  "metadata": {
    "colab": {
      "provenance": [],
      "authorship_tag": "ABX9TyNmuDSWkHO9cMBlUQegUTBw"
    },
    "kernelspec": {
      "name": "python3",
      "display_name": "Python 3"
    },
    "language_info": {
      "name": "python"
    }
  },
  "cells": [
    {
      "cell_type": "code",
      "execution_count": 6,
      "metadata": {
        "colab": {
          "base_uri": "https://localhost:8080/"
        },
        "id": "nEHEB1YOBc_8",
        "outputId": "337d8c7e-ebab-432a-e566-ae2201f12c5f"
      },
      "outputs": [
        {
          "output_type": "stream",
          "name": "stdout",
          "text": [
            "{'臺北市': 339, '': 49, '高雄市': 422, '臺中市': 420, '臺南市': 271, '基隆市': 57, '新竹市': 39, '嘉義市': 67, '新北市': 501, '桃園市': 264, '新竹縣': 46, '宜蘭縣': 76, '苗栗縣': 56, '彰化縣': 179, '南投縣': 67, '雲林縣': 129, '嘉義縣': 84, '屏東縣': 140, '澎湖縣': 11, '花蓮縣': 46, '臺東縣': 23, '金門縣': 6, '連江縣': 1}\n",
            "{'臺北市': 322490, '': 69210, '高雄市': 424170, '臺中市': 536710, '臺南市': 393900, '基隆市': 80100, '新竹市': 45630, '嘉義市': 107840, '新北市': 670270, '桃園市': 331940, '新竹縣': 51350, '宜蘭縣': 106900, '苗栗縣': 131080, '彰化縣': 219400, '南投縣': 91240, '雲林縣': 196990, '嘉義縣': 113180, '屏東縣': 184250, '澎湖縣': 12600, '花蓮縣': 57330, '臺東縣': 28510, '金門縣': 15510, '連江縣': 7930}\n"
          ]
        }
      ],
      "source": [
        "import requests\n",
        "import json\n",
        "\n",
        "# 利用 requests 對 API 來源發送一個請求\n",
        "url = 'https://raw.githubusercontent.com/kiang/pharmacies/master/json/points.json'\n",
        "response = requests.get(url)\n",
        "\n",
        "# 將請求回應的內容存成一個字串格式\n",
        "d = response.text\n",
        "\n",
        "# 將長得像 json 格式的字串解析成字典或列表\n",
        "data = json.loads(d)\n",
        "#print(data)\n",
        "\n",
        "#計算縣市藥局數量\n",
        "med_count = {}\n",
        "\n",
        "for d in data['features']:\n",
        "    conunty = d['properties']['county']\n",
        "    if conunty not in med_count:\n",
        "         med_count[conunty] = 0\n",
        "    if conunty in med_count:\n",
        "        med_count[conunty] +=1\n",
        "print(med_count)\n",
        "# {'台北市': 123, '新北市': 456 ...}"
      ]
    }
  ]
}